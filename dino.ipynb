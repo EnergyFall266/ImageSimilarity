{
 "cells": [
  {
   "cell_type": "code",
   "execution_count": 1,
   "metadata": {},
   "outputs": [
    {
     "name": "stderr",
     "output_type": "stream",
     "text": [
      "c:\\Users\\Usuario\\anaconda3\\envs\\dino\\lib\\site-packages\\tqdm\\auto.py:21: TqdmWarning: IProgress not found. Please update jupyter and ipywidgets. See https://ipywidgets.readthedocs.io/en/stable/user_install.html\n",
      "  from .autonotebook import tqdm as notebook_tqdm\n"
     ]
    }
   ],
   "source": [
    "import torch\n",
    "from transformers import AutoImageProcessor, AutoModel\n",
    "from PIL import Image\n",
    "import faiss\n",
    "import numpy as np\n",
    "import os\n",
    "\n",
    "#load the model and processor\n",
    "device = torch.device('cuda' if torch.cuda.is_available() else \"cpu\")\n",
    "processor = AutoImageProcessor.from_pretrained('facebook/dinov2-small')\n",
    "model = AutoModel.from_pretrained('facebook/dinov2-small').to(device)\n",
    "\n",
    "#Populate the images variable with all the images in the dataset folder\n",
    "images = []\n",
    "for root, dirs, files in os.walk('./images'):\n",
    "    for file in files:\n",
    "        if file.endswith('jpg'):\n",
    "            images.append(root  + '/'+ file)\n",
    "        if file.endswith('png'):\n",
    "            images.append(root  + '/'+ file)\n",
    "\n",
    "#Define a function that normalizes embeddings and add them to the index\n",
    "def add_vector_to_index(embedding, index):\n",
    "    #convert embedding to numpy\n",
    "    vector = embedding.detach().cpu().numpy()\n",
    "    #Convert to float32 numpy\n",
    "    vector = np.float32(vector)\n",
    "    #Normalize vector: important to avoid wrong results when searching\n",
    "    faiss.normalize_L2(vector)\n",
    "    #Add to index\n",
    "    index.add(vector)\n",
    "\n",
    "#Create Faiss index using FlatL2 type with 384 dimensions as this\n",
    "#is the number of dimensions of the features\n",
    "index = faiss.IndexFlatL2(384)\n",
    "\n",
    "\n",
    "for image_path in images:\n",
    "    img = Image.open(image_path).convert('RGB')\n",
    "    with torch.no_grad():\n",
    "        inputs = processor(images=img, return_tensors=\"pt\").to(device)\n",
    "        outputs = model(**inputs)\n",
    "    features = outputs.last_hidden_state\n",
    "    add_vector_to_index( features.mean(dim=1), index)\n",
    "\n",
    "\n",
    "\n",
    "#Store the index locally\n",
    "faiss.write_index(index,\"vector.index\")"
   ]
  },
  {
   "cell_type": "code",
   "execution_count": null,
   "metadata": {},
   "outputs": [],
   "source": [
    "import faiss\n",
    "import numpy as np\n",
    "import torch\n",
    "from transformers import AutoImageProcessor, AutoModel\n",
    "from PIL import Image\n",
    "import matplotlib.pyplot as plt\n",
    "import os\n",
    "os.environ[\"KMP_DUPLICATE_LIB_OK\"]=\"TRUE\"\n",
    "#input image\n",
    "image = Image.open('imagem.png')\n",
    "\n",
    "#Load the model and processor\n",
    "device = torch.device('cuda' if torch.cuda.is_available() else \"cpu\")\n",
    "processor = AutoImageProcessor.from_pretrained('facebook/dinov2-small')\n",
    "model = AutoModel.from_pretrained('facebook/dinov2-small').to(device)\n",
    "\n",
    "#Extract the features\n",
    "with torch.no_grad():\n",
    "    inputs = processor(images=image, return_tensors=\"pt\").to(device)\n",
    "    outputs = model(**inputs)\n",
    "\n",
    "#Normalize the features before search\n",
    "embeddings = outputs.last_hidden_state\n",
    "embeddings = embeddings.mean(dim=1)\n",
    "vector = embeddings.detach().cpu().numpy()\n",
    "vector = np.float32(vector)\n",
    "faiss.normalize_L2(vector)\n",
    "\n",
    "#Read the index file and perform search of top-3 images\n",
    "index = faiss.read_index(\"vector.index\")\n",
    "d,i = index.search(vector,10)\n",
    "print('distances:', d, 'indexes:', i)\n",
    "# print('Images:', [images[index] for index in i[0]])\n",
    "\n",
    "\n",
    "for index in i[0]:\n",
    "    image = Image.open(images[index])\n",
    "    plt.imshow(image)\n",
    "    plt.show()\n"
   ]
  }
 ],
 "metadata": {
  "kernelspec": {
   "display_name": "dino",
   "language": "python",
   "name": "python3"
  },
  "language_info": {
   "codemirror_mode": {
    "name": "ipython",
    "version": 3
   },
   "file_extension": ".py",
   "mimetype": "text/x-python",
   "name": "python",
   "nbconvert_exporter": "python",
   "pygments_lexer": "ipython3",
   "version": "3.9.18"
  }
 },
 "nbformat": 4,
 "nbformat_minor": 2
}
